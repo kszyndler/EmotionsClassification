{
 "cells": [
  {
   "cell_type": "markdown",
   "metadata": {},
   "source": [
    "## Opis projektu ##\n",
    "\n",
    "Zbiór danych stanowi 30000 tweetów w języku angielskim oraz przypisane im etykiety emocji. Możliwe etykiety to: worry, neutral, sadness, happiness, love, suprise, hate, fun, relief, empty, entusiasm, boredom oraz anger. \n",
    "\n",
    "Po załadowaniu danych z tweetów usuwane są adresy url oraz znaki @. Następnie wpisy są normalizowane, co obejmuje: usunięcię z tweetów znaków spoza systemu ASCII, usunięcie interpunkcji, zastąpienie liczb ich słowną reprezentacją, usunięcie stop words oraz usunięcie słów, które nie znajdują się w słowniku języka angielskiego. \n",
    "Tweety, które po takiej obróbce będą puste, zostają usunięte. W tym przypadku było to 529 elementów. \n",
    "\n",
    "Następnie na wykresie słupkowym pokazano rozkład etykiet w oczyszczonym zbiorze. Najwięcej tweetów posiadqa etykietę worry (5094 tweetów), natomiast najmniej zaklasyfikawano jako anger (70 tweetów). \n",
    "\n",
    "Zbiór podzielono ta treningowy i testowy w proporcji 80/20. Następnie stworzono słownik, będący zbiorem wszytskich słów występujących w tweetach. Na zbiorze trenującym dotrenowano model Word2Vec, otrzymując embeddingi dla słów. Do słownika embeddingów dodano tagi reprezentujące początek oraz koniec zdania i tag wypełniający wpis do określonego rozmiaru. Słowa, które nie występują w słowniku embeddingów, otrzymają losowy embedding. \n",
    "\n",
    "Z powodu dużego rozmiaru zbioru treningowego oraz znacznych różnic w licznościach poszczególnych klas zastosowano under sampling. Losowo usunięto elementy klas tak, aby liczność każdej z klas była równa liczności klasy najrzadszej. \n",
    "\n",
    "Przetestowano wybrane klasyfikatory: linear SVM, KNN, drzewa decyzyjne, oraz random forest. Każdy klasyfikator testowano dla zestawu parametrów, a następnie klasyfikator trenowany był dla parametrów dających najkorzystniejszy rezultat. Dla każdego klasyfikatora sprawdzono accuracy, f1 score, precision i recall. Trzy ostatnie metryki liczone są jako średnia wartości dla każdej z klas. \n",
    "\n",
    "Najlepsze wyniki dał klasyfikator Linear SVM. Przedstawiono wykres zalezności accuracy otrzymanych przy walidacji krzyżowej od wartości parametru C. Na koniec przedstawiono rezultaty, przykładowe tweety wraz z etykietami przewidywanymi przez wytrenowane klasyfikatory. "
   ]
  },
  {
   "cell_type": "markdown",
   "metadata": {},
   "source": [
    "Projekt korzysta z danych: https://www.kaggle.com/c/sa-emotions/overview"
   ]
  },
  {
   "cell_type": "code",
   "execution_count": 2,
   "metadata": {},
   "outputs": [
    {
     "name": "stderr",
     "output_type": "stream",
     "text": [
      "paramiko missing, opening SSH/SCP/SFTP paths will be disabled.  `pip install paramiko` to suppress\n"
     ]
    }
   ],
   "source": [
    "import os\n",
    "from collections import defaultdict\n",
    "import re, string, unicodedata\n",
    "import nltk\n",
    "import inflect\n",
    "from nltk.tokenize import word_tokenize\n",
    "from nltk.corpus import stopwords\n",
    "from nltk.stem import WordNetLemmatizer\n",
    "import numpy as np\n",
    "import pickle\n",
    "import csv\n",
    "import pandas as pd\n",
    "import gensim\n",
    "import matplotlib.pyplot as plt\n",
    "from sklearn.model_selection import GridSearchCV, cross_val_score\n",
    "import pickle"
   ]
  },
  {
   "cell_type": "code",
   "execution_count": 3,
   "metadata": {},
   "outputs": [],
   "source": [
    "data = pd.read_csv(os.path.join(os.getcwd(), 'data', 'train_data.csv')) \n",
    "\n",
    "data_copy = data.copy()"
   ]
  },
  {
   "cell_type": "code",
   "execution_count": 10,
   "metadata": {},
   "outputs": [],
   "source": [
    "import enchant\n",
    "eng_dict = enchant.Dict(\"en_US\")\n",
    "words_to_save = ['<EOS>', '<BOS>']\n",
    "\n",
    "def remove_non_ascii(words):\n",
    "    \"\"\"Remove non-ASCII characters from list of tokenized words\"\"\"\n",
    "    new_words = []\n",
    "    for word in words:\n",
    "        new_word = unicodedata.normalize('NFKD', word).encode('ascii', 'ignore').decode('utf-8', 'ignore')\n",
    "        new_words.append(new_word)\n",
    "    return new_words\n",
    "\n",
    "def remove_punctuation(words):\n",
    "    \"\"\"Remove punctuation from list of tokenized words\"\"\"\n",
    "    new_words = []\n",
    "    for word in words:\n",
    "        if word in words_to_save:\n",
    "            new_words.append(word)\n",
    "            continue\n",
    "        new_word = re.sub(r'[^\\w\\s]', '', word)\n",
    "        if new_word != '':\n",
    "            new_words.append(new_word)\n",
    "    return new_words\n",
    "\n",
    "def replace_numbers(words):\n",
    "    \"\"\"Replace all interger occurrences in list of tokenized words with textual representation\"\"\"\n",
    "    p = inflect.engine()\n",
    "    new_words = []\n",
    "    for word in words:\n",
    "        if word.isdigit():\n",
    "            try:\n",
    "                new_word = p.number_to_words(word)\n",
    "                new_words.append(new_word)\n",
    "            except Exception as e:\n",
    "                print(str(e))\n",
    "                pass\n",
    "        else:\n",
    "            new_words.append(word)\n",
    "    return new_words\n",
    "\n",
    "def remove_stopwords(words):\n",
    "    \"\"\"Remove stop words from list of tokenized words\"\"\"\n",
    "    new_words = []\n",
    "    for word in words:\n",
    "        if word not in stopwords.words('english'):\n",
    "            new_words.append(word)\n",
    "    return new_words\n",
    "\n",
    "def remove_no_english(words):\n",
    "    new_words = []\n",
    "    for word in words:\n",
    "        if eng_dict.check(word) or word in words_to_save:\n",
    "            new_words.append(word)\n",
    "    return new_words\n",
    "\n",
    "def add_tags(words):\n",
    "    new_words = []\n",
    "    for word_id, word in enumerate(words):\n",
    "        if word in ['...', '.', '!', '?']:\n",
    "            new_words.append('<EOS>')\n",
    "            new_words.append('<BOS>')\n",
    "        else:\n",
    "            new_words.append(word)\n",
    "    new_words.insert(0, '<BOS>')\n",
    "    if new_words[-1] == '<BOS>':\n",
    "        return new_words[:-1]\n",
    "    return new_words\n",
    "\n",
    "def normalize(words):\n",
    "    words = add_tags(words)\n",
    "    words = remove_non_ascii(words)\n",
    "    words = remove_punctuation(words)\n",
    "    words = replace_numbers(words)\n",
    "    words = remove_stopwords(words)\n",
    "    words  = remove_no_english(words)\n",
    "    return words"
   ]
  },
  {
   "cell_type": "code",
   "execution_count": 11,
   "metadata": {},
   "outputs": [],
   "source": [
    "def remove_urls(text):\n",
    "    txt = re.sub(r'pic\\.twitter\\.com.*?( |$)', '', text)\n",
    "    txt = re.sub(r'http.+?\\xa0', '', txt)\n",
    "    return re.sub(r'http.+?( |$)', '', txt)\n",
    "\n",
    "def remove_marks(text):\n",
    "    return re.sub(r'@ ?.*?( |$)', '', text)"
   ]
  },
  {
   "cell_type": "code",
   "execution_count": 12,
   "metadata": {},
   "outputs": [],
   "source": [
    "for tweet_id, tweet in enumerate(data['content']):\n",
    "    t = add_tags(tweet)\n",
    "    t = (remove_urls(tweet).casefold())\n",
    "    t = remove_marks(t)\n",
    "    t = nltk.word_tokenize(t)\n",
    "    t = normalize(t)\n",
    "    data['content'][tweet_id] = t"
   ]
  },
  {
   "cell_type": "markdown",
   "metadata": {},
   "source": [
    "Tweety,  które zostaną usunięte: "
   ]
  },
  {
   "cell_type": "code",
   "execution_count": 13,
   "metadata": {},
   "outputs": [
    {
     "data": {
      "text/html": [
       "<div>\n",
       "<style scoped>\n",
       "    .dataframe tbody tr th:only-of-type {\n",
       "        vertical-align: middle;\n",
       "    }\n",
       "\n",
       "    .dataframe tbody tr th {\n",
       "        vertical-align: top;\n",
       "    }\n",
       "\n",
       "    .dataframe thead th {\n",
       "        text-align: right;\n",
       "    }\n",
       "</style>\n",
       "<table border=\"1\" class=\"dataframe\">\n",
       "  <thead>\n",
       "    <tr style=\"text-align: right;\">\n",
       "      <th></th>\n",
       "      <th>sentiment</th>\n",
       "      <th>content</th>\n",
       "    </tr>\n",
       "  </thead>\n",
       "  <tbody>\n",
       "    <tr>\n",
       "      <th>7</th>\n",
       "      <td>worry</td>\n",
       "      <td>Hmmm. http://www.djhero.com/ is down</td>\n",
       "    </tr>\n",
       "    <tr>\n",
       "      <th>98</th>\n",
       "      <td>neutral</td>\n",
       "      <td>PrinceCharming</td>\n",
       "    </tr>\n",
       "    <tr>\n",
       "      <th>124</th>\n",
       "      <td>hate</td>\n",
       "      <td>@britblackbird  youstinkatrespondingtotexts!</td>\n",
       "    </tr>\n",
       "    <tr>\n",
       "      <th>156</th>\n",
       "      <td>neutral</td>\n",
       "      <td>where are all ma bestfriends at ? , MIA or wat ?</td>\n",
       "    </tr>\n",
       "    <tr>\n",
       "      <th>220</th>\n",
       "      <td>neutral</td>\n",
       "      <td>@MrRathbone what about me</td>\n",
       "    </tr>\n",
       "  </tbody>\n",
       "</table>\n",
       "</div>"
      ],
      "text/plain": [
       "    sentiment                                           content\n",
       "7       worry              Hmmm. http://www.djhero.com/ is down\n",
       "98    neutral                                    PrinceCharming\n",
       "124      hate      @britblackbird  youstinkatrespondingtotexts!\n",
       "156   neutral  where are all ma bestfriends at ? , MIA or wat ?\n",
       "220   neutral                         @MrRathbone what about me"
      ]
     },
     "execution_count": 13,
     "metadata": {},
     "output_type": "execute_result"
    }
   ],
   "source": [
    "data_copy[data['content'].map(set) <= {'<EOS>', '<BOS>'}].head()"
   ]
  },
  {
   "cell_type": "code",
   "execution_count": 14,
   "metadata": {},
   "outputs": [
    {
     "name": "stdout",
     "output_type": "stream",
     "text": [
      "removing 529 empty rows from data\n"
     ]
    }
   ],
   "source": [
    "print(f\"removing {len(data[data['content'].map(set) <= {'<EOS>', '<BOS>'}])} empty rows from data\")\n",
    "data = data[data['content'].map(set) > {'<EOS>', '<BOS>'}]"
   ]
  },
  {
   "cell_type": "code",
   "execution_count": 15,
   "metadata": {},
   "outputs": [
    {
     "data": {
      "text/plain": [
       "<matplotlib.axes._subplots.AxesSubplot at 0x7f05de73b358>"
      ]
     },
     "execution_count": 15,
     "metadata": {},
     "output_type": "execute_result"
    },
    {
     "data": {
      "image/png": "[encoded data removed]",
      "text/plain": [
       "<Figure size 432x288 with 1 Axes>"
      ]
     },
     "metadata": {},
     "output_type": "display_data"
    }
   ],
   "source": [
    "sentiment_freq = data['sentiment'].value_counts()\n",
    "fig, ax = plt.subplots()\n",
    "\n",
    "sentiment_freq.plot(ax=ax, kind='bar')"
   ]
  },
  {
   "cell_type": "code",
   "execution_count": 16,
   "metadata": {},
   "outputs": [],
   "source": [
    "from sklearn.model_selection import train_test_split\n",
    "\n",
    "data_train, data_test = train_test_split(data, test_size=0.2)"
   ]
  },
  {
   "cell_type": "code",
   "execution_count": 17,
   "metadata": {},
   "outputs": [],
   "source": [
    "words_vocabulary = set([item for sublist in data_train['content'] for item in sublist])"
   ]
  },
  {
   "cell_type": "markdown",
   "metadata": {},
   "source": [
    "Word2Vec + klasyfikator"
   ]
  },
  {
   "cell_type": "code",
   "execution_count": 18,
   "metadata": {},
   "outputs": [],
   "source": [
    "X_train = data_train['content']\n",
    "y_train = data_train['sentiment']\n",
    "X_test = data_test['content']\n",
    "y_test = data_test['sentiment']"
   ]
  },
  {
   "cell_type": "code",
   "execution_count": 19,
   "metadata": {},
   "outputs": [
    {
     "data": {
      "text/plain": [
       "(1081950, 1790030)"
      ]
     },
     "execution_count": 19,
     "metadata": {},
     "output_type": "execute_result"
    }
   ],
   "source": [
    "model = gensim.models.Word2Vec(\n",
    "    X_train,\n",
    "    size=100,\n",
    "    window=10,\n",
    "    min_count=1,\n",
    "    workers=10,\n",
    "    negative = 5)\n",
    "model.train(X_train, total_examples=len(X_train), epochs=10)"
   ]
  },
  {
   "cell_type": "code",
   "execution_count": 20,
   "metadata": {},
   "outputs": [],
   "source": [
    "model_name = 'word2vec'\n",
    "model.save(model_name+'.model')\n",
    "#model = gensim.models.Word2Vec.load(model_name+'.model')"
   ]
  },
  {
   "cell_type": "code",
   "execution_count": 21,
   "metadata": {},
   "outputs": [],
   "source": [
    "EMBEDDING_DIM = 100\n",
    "\n",
    "def create_random_vec(size=EMBEDDING_DIM):\n",
    "    return np.random.rand(size)*2-1\n",
    "\n",
    "BOS = create_random_vec(EMBEDDING_DIM)\n",
    "EOS = create_random_vec(EMBEDDING_DIM)\n",
    "PAD = np.zeros(EMBEDDING_DIM)\n",
    "\n",
    "word_vectors = model.wv\n",
    "\n",
    "word_vectors['<PAD>'] = PAD\n",
    "word_vectors['<BOS>'] = BOS\n",
    "word_vectors['<EOS>'] = EOS\n",
    "\n",
    "def add_tags_to_sentence(sentence):\n",
    "    new_sentence = []\n",
    "    for word_id, word in enumerate(sentence):\n",
    "        if word in word_vectors:\n",
    "            new_sentence.append(word)\n",
    "        else:\n",
    "            sentence[word_id] = '<UNK>'\n",
    "    return new_sentence\n",
    "\n",
    "\n",
    "X_train = [add_tags_to_sentence(sentence) for sentence in X_train]\n",
    "X_test = [add_tags_to_sentence(sentence) for sentence in X_test]"
   ]
  },
  {
   "cell_type": "code",
   "execution_count": 22,
   "metadata": {},
   "outputs": [],
   "source": [
    "longest_sent = max([len(sentence) for sentence in X_train])\n",
    "\n",
    "def vectorize_sentence(sentence):\n",
    "    vectorized_sentence = np.zeros((longest_sent * EMBEDDING_DIM))\n",
    "    for word_i, word in enumerate(sentence):\n",
    "        if word == '<UNK>':\n",
    "            vectorized_sentence[word_i*EMBEDDING_DIM:(word_i+1)*EMBEDDING_DIM] = create_random_vec()\n",
    "        else:\n",
    "            vectorized_sentence[word_i*EMBEDDING_DIM:(word_i+1)*EMBEDDING_DIM] = word_vectors[word]\n",
    "    return vectorized_sentence\n",
    "\n",
    "X_train = [vectorize_sentence(sent) for sent in X_train]\n",
    "X_test = [vectorize_sentence(sent) for sent in X_test]"
   ]
  },
  {
   "cell_type": "markdown",
   "metadata": {},
   "source": [
    "Random undersapling "
   ]
  },
  {
   "cell_type": "code",
   "execution_count": 23,
   "metadata": {},
   "outputs": [],
   "source": [
    "from imblearn.under_sampling import RandomUnderSampler\n",
    "\n",
    "rus = RandomUnderSampler(random_state=42)\n",
    "X_res, y_res = rus.fit_resample(X_train, y_train)"
   ]
  },
  {
   "cell_type": "code",
   "execution_count": 24,
   "metadata": {},
   "outputs": [],
   "source": [
    "import pickle \n",
    "\n",
    "with open('xres', 'wb') as fp:\n",
    "    pickle.dump(X_res, fp)\n",
    "\n",
    "with open('yres', 'wb') as fp:\n",
    "    pickle.dump(y_res, fp)\n",
    "    \n",
    "with open('xtest', 'wb') as fp:\n",
    "    pickle.dump(X_test, fp)\n",
    "\n",
    "with open('ytest', 'wb') as fp:\n",
    "    pickle.dump(y_test, fp)"
   ]
  },
  {
   "cell_type": "code",
   "execution_count": 8,
   "metadata": {},
   "outputs": [],
   "source": [
    "import pickle \n",
    "\n",
    "with open ('xres', 'rb') as fp:\n",
    "    X_res = pickle.load(fp)\n",
    "with open ('yres', 'rb') as fp:\n",
    "    y_res = pickle.load(fp)\n",
    "with open ('ytest', 'rb') as fp:\n",
    "    X_test = pickle.load(fp)\n",
    "with open ('xtest', 'rb') as fp:\n",
    "    y_test = pickle.load(fp)\n"
   ]
  },
  {
   "cell_type": "code",
   "execution_count": 26,
   "metadata": {},
   "outputs": [
    {
     "name": "stderr",
     "output_type": "stream",
     "text": [
      "/home/karolina/anaconda3/lib/python3.6/site-packages/sklearn/svm/_base.py:947: ConvergenceWarning: Liblinear failed to converge, increase the number of iterations.\n",
      "  \"the number of iterations.\", ConvergenceWarning)\n",
      "/home/karolina/anaconda3/lib/python3.6/site-packages/sklearn/svm/_base.py:947: ConvergenceWarning: Liblinear failed to converge, increase the number of iterations.\n",
      "  \"the number of iterations.\", ConvergenceWarning)\n"
     ]
    },
    {
     "name": "stdout",
     "output_type": "stream",
     "text": [
      "0.09776759188523894\n"
     ]
    },
    {
     "name": "stderr",
     "output_type": "stream",
     "text": [
      "/home/karolina/anaconda3/lib/python3.6/site-packages/sklearn/svm/_base.py:947: ConvergenceWarning: Liblinear failed to converge, increase the number of iterations.\n",
      "  \"the number of iterations.\", ConvergenceWarning)\n"
     ]
    }
   ],
   "source": [
    "from sklearn.model_selection import GridSearchCV, cross_val_score, StratifiedKFold\n",
    "from sklearn.svm import LinearSVC\n",
    "\n",
    " \n",
    "param_grid = [\n",
    "  {'C': [pow(2,-5), pow(2,-4), pow(2,-3), pow(2,-2), pow(2,-1), pow(2,0), pow(2,1), pow(2,2), pow(2,3),\n",
    "            pow(2,4), pow(2,5)]}\n",
    "]\n",
    "\n",
    "estimator = LinearSVC(C=1)\n",
    "clf = GridSearchCV(estimator=estimator, param_grid=param_grid, n_jobs=-1)\n",
    "print(np.mean(cross_val_score(clf, X_res, y_res)))"
   ]
  },
  {
   "cell_type": "code",
   "execution_count": 27,
   "metadata": {},
   "outputs": [
    {
     "data": {
      "text/plain": [
       "GridSearchCV(cv=None, error_score=nan,\n",
       "             estimator=LinearSVC(C=1, class_weight=None, dual=True,\n",
       "                                 fit_intercept=True, intercept_scaling=1,\n",
       "                                 loss='squared_hinge', max_iter=1000,\n",
       "                                 multi_class='ovr', penalty='l2',\n",
       "                                 random_state=None, tol=0.0001, verbose=0),\n",
       "             iid='deprecated', n_jobs=-1,\n",
       "             param_grid=[{'C': [0.03125, 0.0625, 0.125, 0.25, 0.5, 1, 2, 4, 8,\n",
       "                                16, 32]}],\n",
       "             pre_dispatch='2*n_jobs', refit=True, return_train_score=False,\n",
       "             scoring=None, verbose=0)"
      ]
     },
     "execution_count": 27,
     "metadata": {},
     "output_type": "execute_result"
    }
   ],
   "source": [
    "clf.fit(X_res, y_res)"
   ]
  },
  {
   "cell_type": "code",
   "execution_count": 4,
   "metadata": {},
   "outputs": [],
   "source": [
    "#pickle.dump(clf, open('svm', 'wb'))\n",
    "clf = pickle.load(open('svm', 'rb'))"
   ]
  },
  {
   "cell_type": "code",
   "execution_count": 9,
   "metadata": {},
   "outputs": [],
   "source": [
    "svm_score = clf.score(X_test, y_test)"
   ]
  },
  {
   "cell_type": "code",
   "execution_count": 10,
   "metadata": {},
   "outputs": [],
   "source": [
    "svm_pred = clf.predict(X_test)"
   ]
  },
  {
   "cell_type": "code",
   "execution_count": 11,
   "metadata": {},
   "outputs": [],
   "source": [
    "from sklearn.metrics import recall_score, precision_score, f1_score\n",
    "\n",
    "f1_svm = f1_score(y_test, svm_pred, average='macro')\n",
    "recall_svm = recall_score(y_test, svm_pred, average='macro')\n",
    "precision_svm = precision_score(y_test, svm_pred, average='macro')"
   ]
  },
  {
   "cell_type": "code",
   "execution_count": 12,
   "metadata": {},
   "outputs": [
    {
     "name": "stderr",
     "output_type": "stream",
     "text": [
      "/home/karolina/anaconda3/lib/python3.6/site-packages/sklearn/model_selection/_split.py:296: FutureWarning: Setting a random_state has no effect since shuffle is False. This will raise an error in 0.24. You should leave random_state to its default (None), or set shuffle=True.\n",
      "  FutureWarning\n"
     ]
    }
   ],
   "source": [
    "from sklearn.model_selection import StratifiedKFold\n",
    "\n",
    "seed=123\n",
    "kfold = StratifiedKFold(n_splits=5, random_state=seed)"
   ]
  },
  {
   "cell_type": "code",
   "execution_count": 39,
   "metadata": {},
   "outputs": [
    {
     "data": {
      "text/plain": [
       "array([0.09090909, 0.1038961 , 0.09803922, 0.08496732, 0.11764706])"
      ]
     },
     "execution_count": 39,
     "metadata": {},
     "output_type": "execute_result"
    }
   ],
   "source": [
    "from sklearn.neighbors import KNeighborsClassifier\n",
    "\n",
    "param_grid = [\n",
    "  {'n_neighbors':[1, 2, 3, 4, 5]},\n",
    "]\n",
    "\n",
    "estimator = KNeighborsClassifier(n_neighbors = 2)\n",
    "neigh = GridSearchCV(estimator=estimator, param_grid=param_grid, cv=kfold, n_jobs=3)\n",
    "cross_val_score(neigh, X_res, y_res)"
   ]
  },
  {
   "cell_type": "code",
   "execution_count": 40,
   "metadata": {},
   "outputs": [
    {
     "data": {
      "text/plain": [
       "GridSearchCV(cv=StratifiedKFold(n_splits=5, random_state=123, shuffle=False),\n",
       "             error_score=nan,\n",
       "             estimator=KNeighborsClassifier(algorithm='auto', leaf_size=30,\n",
       "                                            metric='minkowski',\n",
       "                                            metric_params=None, n_jobs=None,\n",
       "                                            n_neighbors=2, p=2,\n",
       "                                            weights='uniform'),\n",
       "             iid='deprecated', n_jobs=3,\n",
       "             param_grid=[{'n_neighbors': [1, 2, 3, 4, 5]}],\n",
       "             pre_dispatch='2*n_jobs', refit=True, return_train_score=False,\n",
       "             scoring=None, verbose=0)"
      ]
     },
     "execution_count": 40,
     "metadata": {},
     "output_type": "execute_result"
    }
   ],
   "source": [
    "neigh.fit(X_res, y_res)"
   ]
  },
  {
   "cell_type": "code",
   "execution_count": 13,
   "metadata": {},
   "outputs": [],
   "source": [
    "#pickle.dump(neigh, open('knn', 'wb'))\n",
    "neigh = pickle.load(open('knn', 'rb'))"
   ]
  },
  {
   "cell_type": "code",
   "execution_count": 14,
   "metadata": {},
   "outputs": [],
   "source": [
    "knn_score = neigh.score(X_test, y_test)"
   ]
  },
  {
   "cell_type": "code",
   "execution_count": 15,
   "metadata": {},
   "outputs": [],
   "source": [
    "knn_pred = neigh.predict(X_test)\n",
    "\n",
    "f1_knn = f1_score(y_test, knn_pred, average='macro')\n",
    "recall_knn = recall_score(y_test, knn_pred, average='macro')\n",
    "precision_knn = precision_score(y_test, knn_pred, average='macro')"
   ]
  },
  {
   "cell_type": "code",
   "execution_count": 16,
   "metadata": {},
   "outputs": [
    {
     "name": "stdout",
     "output_type": "stream",
     "text": [
      "0.10301332654273829\n"
     ]
    }
   ],
   "source": [
    "from sklearn.tree import DecisionTreeClassifier\n",
    "\n",
    "param_grid = [\n",
    "  {'max_depth': [5, 10, 20, 40]}\n",
    "]\n",
    "estimator = DecisionTreeClassifier()\n",
    "decisionTree = GridSearchCV(estimator=estimator, param_grid=param_grid, n_jobs=-1)\n",
    "print(np.mean(cross_val_score(decisionTree, X_res, y_res)))"
   ]
  },
  {
   "cell_type": "code",
   "execution_count": 17,
   "metadata": {},
   "outputs": [
    {
     "name": "stdout",
     "output_type": "stream",
     "text": [
      "0.09258976317799847\n"
     ]
    }
   ],
   "source": [
    "print(np.mean(cross_val_score(decisionTree, X_res, y_res)))"
   ]
  },
  {
   "cell_type": "code",
   "execution_count": 18,
   "metadata": {},
   "outputs": [
    {
     "data": {
      "text/plain": [
       "GridSearchCV(cv=None, error_score=nan,\n",
       "             estimator=DecisionTreeClassifier(ccp_alpha=0.0, class_weight=None,\n",
       "                                              criterion='gini', max_depth=None,\n",
       "                                              max_features=None,\n",
       "                                              max_leaf_nodes=None,\n",
       "                                              min_impurity_decrease=0.0,\n",
       "                                              min_impurity_split=None,\n",
       "                                              min_samples_leaf=1,\n",
       "                                              min_samples_split=2,\n",
       "                                              min_weight_fraction_leaf=0.0,\n",
       "                                              presort='deprecated',\n",
       "                                              random_state=None,\n",
       "                                              splitter='best'),\n",
       "             iid='deprecated', n_jobs=-1,\n",
       "             param_grid=[{'max_depth': [5, 10, 20, 40]}],\n",
       "             pre_dispatch='2*n_jobs', refit=True, return_train_score=False,\n",
       "             scoring=None, verbose=0)"
      ]
     },
     "execution_count": 18,
     "metadata": {},
     "output_type": "execute_result"
    }
   ],
   "source": [
    "decisionTree.fit(X_res, y_res)"
   ]
  },
  {
   "cell_type": "code",
   "execution_count": 19,
   "metadata": {},
   "outputs": [],
   "source": [
    "pickle.dump(decisionTree, open('tree', 'wb'))\n",
    "#decisionTree = pickle.load(open('tree', 'rb'))"
   ]
  },
  {
   "cell_type": "code",
   "execution_count": 20,
   "metadata": {},
   "outputs": [],
   "source": [
    "tree_score = decisionTree.score(X_test, y_test)"
   ]
  },
  {
   "cell_type": "code",
   "execution_count": 21,
   "metadata": {},
   "outputs": [],
   "source": [
    "tree_pred = decisionTree.predict(X_test)\n",
    "f1_tree = f1_score(y_test, tree_pred, average='macro')\n",
    "recall_tree = recall_score(y_test, tree_pred, average='macro')\n",
    "precision_tree = precision_score(y_test, tree_pred, average='macro')"
   ]
  },
  {
   "cell_type": "code",
   "execution_count": 22,
   "metadata": {},
   "outputs": [
    {
     "name": "stdout",
     "output_type": "stream",
     "text": [
      "0.09389695272048212\n"
     ]
    }
   ],
   "source": [
    "from sklearn.ensemble import RandomForestClassifier\n",
    "\n",
    "param_grid = [\n",
    "  {'max_depth': [5, 10, 20, None]}\n",
    "]\n",
    "estimator = RandomForestClassifier()\n",
    "randomForest = GridSearchCV(estimator=estimator, param_grid=param_grid, n_jobs=-1)\n",
    "print(np.mean(cross_val_score(decisionTree, X_res, y_res)))"
   ]
  },
  {
   "cell_type": "code",
   "execution_count": 23,
   "metadata": {},
   "outputs": [],
   "source": [
    "randomForest.fit(X_res, y_res)\n",
    "forest_score = randomForest.score(X_test, y_test)\n",
    "\n",
    "forest_pred = randomForest.predict(X_test)\n",
    "f1_forest = f1_score(y_test, forest_pred, average='macro')\n",
    "recall_forest = recall_score(y_test, forest_pred, average='macro')\n",
    "precision_forest = precision_score(y_test, forest_pred, average='macro')"
   ]
  },
  {
   "cell_type": "code",
   "execution_count": 24,
   "metadata": {},
   "outputs": [],
   "source": [
    "pickle.dump(randomForest, open('forest', 'wb'))\n",
    "#randomForest = pickle.load(open('forest', 'rb'))"
   ]
  },
  {
   "cell_type": "code",
   "execution_count": 25,
   "metadata": {},
   "outputs": [],
   "source": [
    "results = pd.DataFrame({\"classifier\": ['KNN', 'Decision Tree', 'SVM', 'Random forest'], \n",
    "                       \"accuracy\": [knn_score, tree_score, svm_score, forest_score],\n",
    "                        \"precision\": [precision_knn, precision_tree, precision_svm, precision_forest],\n",
    "                        \"recall\": [recall_knn, recall_tree, recall_svm, recall_forest],\n",
    "                       \"F1 score\": [f1_knn,f1_tree, f1_svm, f1_forest]})\n"
   ]
  },
  {
   "cell_type": "code",
   "execution_count": 26,
   "metadata": {},
   "outputs": [
    {
     "data": {
      "text/html": [
       "<div>\n",
       "<style scoped>\n",
       "    .dataframe tbody tr th:only-of-type {\n",
       "        vertical-align: middle;\n",
       "    }\n",
       "\n",
       "    .dataframe tbody tr th {\n",
       "        vertical-align: top;\n",
       "    }\n",
       "\n",
       "    .dataframe thead th {\n",
       "        text-align: right;\n",
       "    }\n",
       "</style>\n",
       "<table border=\"1\" class=\"dataframe\">\n",
       "  <thead>\n",
       "    <tr style=\"text-align: right;\">\n",
       "      <th></th>\n",
       "      <th>classifier</th>\n",
       "      <th>accuracy</th>\n",
       "      <th>precision</th>\n",
       "      <th>recall</th>\n",
       "      <th>F1 score</th>\n",
       "    </tr>\n",
       "  </thead>\n",
       "  <tbody>\n",
       "    <tr>\n",
       "      <th>0</th>\n",
       "      <td>KNN</td>\n",
       "      <td>0.034048</td>\n",
       "      <td>0.080953</td>\n",
       "      <td>0.064036</td>\n",
       "      <td>0.033951</td>\n",
       "    </tr>\n",
       "    <tr>\n",
       "      <th>1</th>\n",
       "      <td>Decision Tree</td>\n",
       "      <td>0.090542</td>\n",
       "      <td>0.092696</td>\n",
       "      <td>0.092331</td>\n",
       "      <td>0.071724</td>\n",
       "    </tr>\n",
       "    <tr>\n",
       "      <th>2</th>\n",
       "      <td>SVM</td>\n",
       "      <td>0.092308</td>\n",
       "      <td>0.091756</td>\n",
       "      <td>0.095151</td>\n",
       "      <td>0.077372</td>\n",
       "    </tr>\n",
       "    <tr>\n",
       "      <th>3</th>\n",
       "      <td>Random forest</td>\n",
       "      <td>0.095586</td>\n",
       "      <td>0.096494</td>\n",
       "      <td>0.097313</td>\n",
       "      <td>0.078956</td>\n",
       "    </tr>\n",
       "  </tbody>\n",
       "</table>\n",
       "</div>"
      ],
      "text/plain": [
       "      classifier  accuracy  precision    recall  F1 score\n",
       "0            KNN  0.034048   0.080953  0.064036  0.033951\n",
       "1  Decision Tree  0.090542   0.092696  0.092331  0.071724\n",
       "2            SVM  0.092308   0.091756  0.095151  0.077372\n",
       "3  Random forest  0.095586   0.096494  0.097313  0.078956"
      ]
     },
     "execution_count": 26,
     "metadata": {},
     "output_type": "execute_result"
    }
   ],
   "source": [
    "results"
   ]
  },
  {
   "cell_type": "markdown",
   "metadata": {},
   "source": [
    "Zależność między wartością parametru C w Linear SVM a otrzymaną wartością accuracy przy walidacji krzyżowej"
   ]
  },
  {
   "cell_type": "code",
   "execution_count": 27,
   "metadata": {},
   "outputs": [
    {
     "data": {
      "text/plain": [
       "Text(0,0.5,'Accuracy [%]')"
      ]
     },
     "execution_count": 27,
     "metadata": {},
     "output_type": "execute_result"
    },
    {
     "data": {
      "image/png": "[encoded data removed]",
      "text/plain": [
       "<Figure size 432x288 with 1 Axes>"
      ]
     },
     "metadata": {},
     "output_type": "display_data"
    }
   ],
   "source": [
    "mean_score = clf.cv_results_['mean_test_score']\n",
    "C_values = [pow(2,-5), pow(2,-4), pow(2,-3), pow(2,-2), pow(2,-1), pow(2,0), pow(2,1), pow(2,2), pow(2,3),\n",
    "            pow(2,4), pow(2,5)]\n",
    "\n",
    "\n",
    "plt.errorbar(C_values, mean_score, clf.cv_results_['std_test_score'], fmt='o')\n",
    "plt.title(\"Wyniki SVM\")\n",
    "plt.xlabel(\"C\")\n",
    "plt.ylabel(\"Accuracy [%]\")\n"
   ]
  },
  {
   "cell_type": "markdown",
   "metadata": {},
   "source": [
    "Przykład działania modelu"
   ]
  },
  {
   "cell_type": "code",
   "execution_count": 30,
   "metadata": {},
   "outputs": [],
   "source": [
    "data_test = pd.DataFrame(list(zip(X_test, y_test)), columns = ['content', 'sentiment'])"
   ]
  },
  {
   "cell_type": "code",
   "execution_count": 31,
   "metadata": {},
   "outputs": [
    {
     "name": "stdout",
     "output_type": "stream",
     "text": [
      "@tiffanylue i know  i was listenin to bad habit earlier and i started freakin at his part =[\n",
      "label: empty\n",
      "knn: happiness, decision tree: happiness, svm: neutral, random forest: love\n",
      "\n",
      "Layin n bed with a headache  ughhhh...waitin on your call...\n",
      "label: sadness\n",
      "knn: anger, decision tree: boredom, svm: worry, random forest: empty\n",
      "\n",
      "Funeral ceremony...gloomy friday...\n",
      "label: sadness\n",
      "knn: happiness, decision tree: surprise, svm: neutral, random forest: happiness\n",
      "\n",
      "wants to hang out with friends SOON!\n",
      "label: enthusiasm\n",
      "knn: boredom, decision tree: neutral, svm: love, random forest: sadness\n",
      "\n",
      "@dannycastillo We want to trade with someone who has Houston tickets, but no one will.\n",
      "label: neutral\n",
      "knn: boredom, decision tree: empty, svm: enthusiasm, random forest: sadness\n",
      "\n"
     ]
    }
   ],
   "source": [
    "def check_results(test_id):\n",
    "    example_id = data_test.index.values[test_id]\n",
    "    example_text = data_copy.iloc[example_id]['content']\n",
    "    example_label = data_copy.iloc[example_id]['sentiment']\n",
    "    svm_label = svm_pred[test_id]\n",
    "    knn_label = knn_pred[test_id]\n",
    "    tree_label = tree_pred[test_id]\n",
    "    forest_label = forest_pred[test_id]\n",
    "    print(example_text)\n",
    "    print(f'label: {example_label}')\n",
    "    print(f'knn: {knn_label}, decision tree: {tree_label}, svm: {svm_label}, random forest: {forest_label}')\n",
    "    print()\n",
    "\n",
    "for i in range(5):\n",
    "    check_results(i)"
   ]
  },
  {
   "cell_type": "code",
   "execution_count": null,
   "metadata": {},
   "outputs": [],
   "source": []
  }
 ],
 "metadata": {
  "kernelspec": {
   "display_name": "Python 3",
   "language": "python",
   "name": "python3"
  },
  "language_info": {
   "codemirror_mode": {
    "name": "ipython",
    "version": 3
   },
   "file_extension": ".py",
   "mimetype": "text/x-python",
   "name": "python",
   "nbconvert_exporter": "python",
   "pygments_lexer": "ipython3",
   "version": "3.6.7"
  }
 },
 "nbformat": 4,
 "nbformat_minor": 2
}
